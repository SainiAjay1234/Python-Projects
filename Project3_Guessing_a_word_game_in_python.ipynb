{
  "nbformat": 4,
  "nbformat_minor": 0,
  "metadata": {
    "colab": {
      "name": "Project3-Guessing a word game in python.ipynb",
      "provenance": [],
      "collapsed_sections": []
    },
    "kernelspec": {
      "name": "python3",
      "display_name": "Python 3"
    },
    "language_info": {
      "name": "python"
    }
  },
  "cells": [
    {
      "cell_type": "code",
      "execution_count": null,
      "metadata": {
        "colab": {
          "base_uri": "https://localhost:8080/"
        },
        "id": "FQb8BEYKnjuJ",
        "outputId": "322c8017-afc7-419a-ace4-5af8b2fc8cb6"
      },
      "outputs": [
        {
          "output_type": "stream",
          "name": "stdout",
          "text": [
            "The word you are going to guess is 7 characters long\n",
            "You are still left with 14 chances !\n",
            "word is: *******\n",
            "Letter guessed : []\n",
            "Guess is :a\n",
            "You have entered the correct charactera\n",
            "You are still left with 13 chances !\n",
            "word is: *****a*\n",
            "Letter guessed : ['a']\n",
            "Guess is :g\n",
            "You have entered the correct characterg\n",
            "You are still left with 12 chances !\n",
            "word is: ***g*a*\n",
            "Letter guessed : ['a', 'g']\n"
          ]
        }
      ],
      "source": [
        "import random\n",
        "def word_choice():\n",
        "  my_words = ['pycharm', 'program', 'coding', 'game', 'learning']\n",
        "  word = random.choice(my_words).lower()\n",
        "  return word\n",
        "\n",
        "def guess_word(word, word_think):\n",
        "  guess_word = \"\"\n",
        "  for character in word:\n",
        "    if character in word_think:\n",
        "      guess_word  = guess_word + character\n",
        "    else:\n",
        "      guess_word = guess_word + \"*\"\n",
        "    return guess_word\n",
        "\n",
        "def collect_alp(word):\n",
        "  character_guess = []\n",
        "  total_chances = int(len(word)*2)\n",
        "  print(\"The word you are going to guess is \" + str(len(word)) + \" characters long\")\n",
        "  while True:\n",
        "    if total_chances != 0:\n",
        "      print(f\"You are still left with {total_chances} chances !\")\n",
        "      print(\"word is: \" + guess_word(word, character_guess))\n",
        "      print(\"Letter guessed : \" +  str(character_guess))\n",
        "      guessing = input(\"Guess is :\").lower()[0]\n",
        "\n",
        "      if guessing not in character_guess:\n",
        "        character_guess.append(guessing)\n",
        "      \n",
        "      if guess_word(word, character_guess) == word:\n",
        "        print(\"Hurray  !!\")\n",
        "        print(f\"Congrats you got the correct word and i.e. {word}\")\n",
        "        break\n",
        "      else:\n",
        "        total_chances = total_chances -1\n",
        "        if guessing in word:\n",
        "          print(\"You have entered the correct character\" + guessing)\n",
        "        else:\n",
        "          print(guessing + \"is not in the word\")\n",
        "while True:\n",
        "  word = word_choice()\n",
        "  collect_alp(word)\n",
        "  if input(\"Do you want to continue : \").lower().startswith(\"n\"):\n",
        "    break\n",
        "     \n",
        "  "
      ]
    }
  ]
}