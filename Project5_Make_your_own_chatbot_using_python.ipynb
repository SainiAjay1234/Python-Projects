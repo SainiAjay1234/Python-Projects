{
  "cells": [
    {
      "cell_type": "code",
      "execution_count": null,
      "metadata": {
        "id": "fvtRzd0ET3K_"
      },
      "outputs": [],
      "source": [
        ""
      ]
    },
    {
      "cell_type": "code",
      "execution_count": null,
      "metadata": {
        "colab": {
          "background_save": true,
          "base_uri": "https://localhost:8080/"
        },
        "id": "WRWApw23J2C4",
        "outputId": "35509714-b331-45ec-d3ba-f5e3c2bddc5d"
      },
      "outputs": [
        {
          "name": "stdout",
          "output_type": "stream",
          "text": [
            "Bot replied  to Ajay - Sorry what are you asking, i am not getting that ?\n",
            "\n",
            "Bot replied  to Ajay : hi\n",
            "\n",
            "Bot replied  to Ajay : learning programming language\n",
            "\n",
            "Bot replied  to Ajay : hi\n",
            "\n",
            "Bot replied  to Ajay - Sorry what are you asking, i am not getting that ?\n",
            "\n",
            "Bot replied  to Ajay - Sorry what are you asking, i am not getting that ?\n",
            "\n"
          ]
        }
      ],
      "source": [
        "import random\n",
        "var_1 = ['hi','hello']\n",
        "var_2 = ['How are you','How are you doing', 'How is your health']\n",
        "var_3 = ['What is your name', 'how do i call you','name','your name please']\n",
        "var_4 = ['programming language', 'what should I learn']\n",
        "var_5 = ['what are your hobbies','hobbies','What do you do in your free time']\n",
        "while True:\n",
        "  user_input = input(\"Ajay said to bot : \")\n",
        "\n",
        "  if user_input.lower() in var_1:\n",
        "    bot_1 = ['hello','hi']\n",
        "    print('Bot replied  to Ajay : '+random.choice(bot_1)+'\\n')\n",
        "  elif user_input.lower() in var_2:\n",
        "    bot_2 = ['I am good','I am doing good','I am fine']\n",
        "    print('Bot replied  to Ajay : '+random.choice(bot_2)+'\\n')\n",
        "  elif user_input.lower() in var_3:\n",
        "    bot_3 = ['My name is Chatterbot', 'Call me chatterbot', 'chatterbot', 'my name is chatterot']\n",
        "    print('Bot replied  to Ajay : '+random.choice(bot_3)+'\\n')\n",
        "  elif user_input.lower() in var_4:\n",
        "    bot_4 = ['python programming', 'python programming language']\n",
        "    print('Bot replied  to Ajay : '+random.choice(bot_4)+'\\n')\n",
        "  elif user_input.lower() in var_5:\n",
        "    bot_5 = ['learning programming language','learning a  programming language', 'learning a programming language']\n",
        "    print('Bot replied  to Ajay : '+random.choice(bot_5)+'\\n')\n",
        "  else:\n",
        "    print('Bot replied  to Ajay - Sorry what are you asking, i am not getting that ?'+'\\n')\n",
        "\n",
        "    \n",
        "\n",
        "  \n",
        "\n",
        "\n"
      ]
    }
  ],
  "metadata": {
    "colab": {
      "collapsed_sections": [],
      "name": "Project5-Make your own chatbot using python.ipynb",
      "provenance": []
    },
    "kernelspec": {
      "display_name": "Python 3",
      "name": "python3"
    },
    "language_info": {
      "name": "python"
    }
  },
  "nbformat": 4,
  "nbformat_minor": 0
}