{
  "nbformat": 4,
  "nbformat_minor": 0,
  "metadata": {
    "colab": {
      "name": "Project4-Rock Paper Scissors Game in Python.ipynb",
      "provenance": [],
      "collapsed_sections": []
    },
    "kernelspec": {
      "name": "python3",
      "display_name": "Python 3"
    },
    "language_info": {
      "name": "python"
    }
  },
  "cells": [
    {
      "cell_type": "code",
      "execution_count": null,
      "metadata": {
        "id": "yoX3D-6l4YJF",
        "colab": {
          "base_uri": "https://localhost:8080/"
        },
        "outputId": "e57bef0a-9f92-48ef-90b2-79c316d76b82"
      },
      "outputs": [
        {
          "name": "stdout",
          "output_type": "stream",
          "text": [
            "\n",
            "Choose Rock, Paper or Scissors: s\n",
            "\n",
            "You chose scissors. The computer chose scissors. You tied.\n",
            "\n",
            "Player wins: 0\n",
            "Computer wins: 0\n",
            "\n",
            "Do you want to play again? (y/n)y\n",
            "\n",
            "Choose Rock, Paper or Scissors: p\n",
            "\n",
            "You chose paper. The computer chose scissors. You lose.\n",
            "\n",
            "Player wins: 0\n",
            "Computer wins: 1\n",
            "\n",
            "Do you want to play again? (y/n)n\n"
          ]
        }
      ],
      "source": [
        "import random\n",
        "comp_wins = 0\n",
        "player_wins = 0\n",
        "\n",
        "def Choose_Option():\n",
        "  user_choice =  input(\"Choose Rock, Paper or Scissors: \")\n",
        "  if user_choice in [\"Rock\", \"rock\", \"r\", \"R\"]:\n",
        "    user_choice = \"r\"\n",
        "  elif user_choice in [\"Paper\", \"paper\", \"p\", \"P\"]:\n",
        "    user_choice = \"p\"\n",
        "  elif user_choice in [\"Scissors\", \"scissor\", \"s\", \"S\"]:\n",
        "    user_choice = \"s\"\n",
        "  else:\n",
        "    print(\"I don't understand, try again.\")\n",
        "    Choose_Option()\n",
        "  return user_choice\n",
        "\n",
        "def Computer_Option():\n",
        "  comp_choice = random.randint(1,3)\n",
        "  if comp_choice == 1:\n",
        "    comp_choice = \"r\"\n",
        "  elif comp_choice == 2:\n",
        "    comp_choice = \"p\"\n",
        "  else:\n",
        "    comp_choice = \"s\"\n",
        "  return comp_choice\n",
        "\n",
        "while True:\n",
        "  print(\"\")\n",
        "  user_choice = Choose_Option()\n",
        "  comp_choice = Computer_Option()\n",
        "  print(\"\")\n",
        "  if user_choice == \"r\":\n",
        "    if comp_choice == \"r\":\n",
        "      print(\"You chose rock. The computer chose rock. You tied.\")\n",
        "    elif comp_choice == \"r\":\n",
        "      print(\"You chose rock. The computer chose paper. You lose. \")\n",
        "      comp_wins += 1\n",
        "    elif comp_choice == \"s\":\n",
        "      print(\"You chose rock.The computer chose scissors. You win.\")\n",
        "      player_wins += 1\n",
        "  elif user_choice == \"p\":\n",
        "    if comp_choice == \"r\":\n",
        "      print(\"You chose paper. The computer chose rock. You win.\")\n",
        "      player_wins += 1\n",
        "    elif comp_choice == \"p\":\n",
        "      print(\"You chose paper. The computer chose paper. You tied. \")\n",
        "    elif comp_choice == \"s\":\n",
        "      print(\"You chose paper. The computer chose scissors. You lose.\")\n",
        "      comp_wins += 1\n",
        "  elif user_choice == \"s\":\n",
        "    if comp_choice == \"r\":\n",
        "      print(\"You chose scissors. The computer chose rock. You lose.\")\n",
        "      comp_wins += 1\n",
        "    elif comp_choice == \"p\":\n",
        "      print(\"You chose scissors. The computer chose paper. You win.\")\n",
        "      player_wins += 1\n",
        "    elif comp_choice == \"s\":\n",
        "      print(\"You chose scissors. The computer chose scissors. You tied.\")\n",
        "\n",
        "\n",
        "  print(\"\")\n",
        "  print(\"Player wins: \" + str(player_wins))\n",
        "  print(\"Computer wins: \" + str(comp_wins))\n",
        "  print(\"\")\n",
        "\n",
        "  user_choice = input(\"Do you want to play again? (y/n)\")\n",
        "  if user_choice in [\"Y\", \"y\", \"yes\", \"Yes\"]:\n",
        "    pass\n",
        "  elif user_choice in [\"N\", \"n\", \"no\", \"No\"]:\n",
        "    break\n",
        "  else:\n",
        "    break"
      ]
    }
  ]
}