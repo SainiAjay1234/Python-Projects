{
  "nbformat": 4,
  "nbformat_minor": 0,
  "metadata": {
    "colab": {
      "name": "Project6-Create a Virtual Assistant with Python.ipynb",
      "provenance": [],
      "collapsed_sections": []
    },
    "kernelspec": {
      "name": "python3",
      "display_name": "Python 3"
    },
    "language_info": {
      "name": "python"
    }
  },
  "cells": [
    {
      "cell_type": "code",
      "execution_count": null,
      "metadata": {
        "id": "M0Cr6cf9HndO"
      },
      "outputs": [],
      "source": [
        "import speech_recognition as sr\n",
        "import pyttsx3\n",
        "import pywhatkit\n",
        "import datetime\n",
        "import wikipedia\n",
        "import pyjokes\n",
        "\n",
        "listener = sr.Recognizer()\n",
        "engine = pyttsx3.init()\n",
        "voices = engine.getProperty('voices')\n",
        "engine.setProperty('voice', voices[1].id)\n",
        "def talk(text):\n",
        "    engine.say(text)\n",
        "    engine.say(text)\n",
        "    engine.runAndWait()\n",
        "\n",
        "def take_command():\n",
        "    try:\n",
        "        with sr.Microphone() as source:\n",
        "            print('listening...')\n",
        "            voice = listener.listen(source)\n",
        "            command = listener.recognize_google(voice)\n",
        "            command = command.lower()\n",
        "            if 'alexa' in command:\n",
        "                command = command.replace('alexa', '')\n",
        "                print(command)\n",
        "    except:\n",
        "        pass\n",
        "\n",
        "def run_alexa():\n",
        "    command = take_command()\n",
        "    print(command)\n",
        "    if 'play' in command:\n",
        "        song = command.replace('play', '')\n",
        "        talk('playing' + song)\n",
        "        pywhatkit.playonyt(song)\n",
        "    elif 'time' in command:\n",
        "        time = datetime.datetime.now().strftime('%I:%M %p')\n",
        "        print(time)\n",
        "        talk('Current time is ' + time)\n",
        "    elif 'who the heck is' in command:\n",
        "        person = command.replace('who the heck is ', '')\n",
        "        info = wikipedia.summary(person, 1)\n",
        "        print(info)\n",
        "        talk(info)\n",
        "    elif 'joke' in command:\n",
        "        talk(pyjokes.get_joke())\n",
        "    else:\n",
        "        talk('Please say the command again.')\n",
        "\n",
        "\n",
        "while True:\n",
        "    run_alexa()\n",
        "\n",
        "\n",
        "\n"
      ]
    },
    {
      "cell_type": "code",
      "source": [
        ""
      ],
      "metadata": {
        "id": "bULdJmHZIo5B"
      },
      "execution_count": null,
      "outputs": []
    }
  ]
}