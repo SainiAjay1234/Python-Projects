{
  "cells": [
    {
      "cell_type": "code",
      "execution_count": null,
      "metadata": {
        "colab": {
          "background_save": true,
          "base_uri": "https://localhost:8080/"
        },
        "id": "JODW0uStNEz5",
        "outputId": "3fb35be9-150e-400e-9b90-1d9e3a10817f"
      },
      "outputs": [
        {
          "name": "stdout",
          "output_type": "stream",
          "text": [
            "6\n"
          ]
        }
      ],
      "source": [
        "import random\n",
        "\n",
        "again = True\n",
        "\n",
        "while again:\n",
        "  print(random.randint(1,6))\n",
        "  another_roll = input(\"Want to roll the dice again? (y/n): \")\n",
        "  if another_roll.lower() == \"y\": #input should be in lowercase\n",
        "    continue\n",
        "  else:\n",
        "    break\n",
        "\n",
        "     \n",
        "  \n"
      ]
    },
    {
      "cell_type": "code",
      "execution_count": null,
      "metadata": {
        "id": "rKBfPadUPw5n"
      },
      "outputs": [],
      "source": [
        "import random\n",
        "from tkinter import *\n",
        "\n",
        "root = Tk() # defining Tkinter window(lengh and width you are going to take for window)\n",
        "root.geometry(\"600x300\") # small x not multiplication sign\n",
        "text_1 = Label(root, text='',font = (\"arial\"))\n",
        "def roll_the_dice():\n",
        "  print(\"the dice\")\n",
        "\n",
        "button_1 = Button(root, text=\"Roll the dice\", command=roll_the_dice) #defining button function(roll_the_dice is the function name)\n",
        "button_1.place(x=250,y=0) #location of button\n",
        "root.mainloop() #close the program\n"
      ]
    }
  ],
  "metadata": {
    "colab": {
      "collapsed_sections": [],
      "name": "Project1-Dice Rolling Simulator Game in Python.ipynb",
      "provenance": []
    },
    "kernelspec": {
      "display_name": "Python 3",
      "name": "python3"
    },
    "language_info": {
      "name": "python"
    }
  },
  "nbformat": 4,
  "nbformat_minor": 0
}